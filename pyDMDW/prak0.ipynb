{
  "nbformat": 4,
  "nbformat_minor": 0,
  "metadata": {
    "colab": {
      "name": "prak0.ipynb",
      "provenance": [],
      "collapsed_sections": []
    },
    "kernelspec": {
      "name": "python3",
      "display_name": "Python 3"
    }
  },
  "cells": [
    {
      "cell_type": "code",
      "metadata": {
        "id": "8fG1iUpV18_m",
        "colab": {
          "base_uri": "https://localhost:8080/"
        },
        "outputId": "c9a06319-eb6e-4f31-bc11-1a305c031af0"
      },
      "source": [
        "for i in range(22):\r\n",
        "  print(\"bel_\"+str(i+1))"
      ],
      "execution_count": 2,
      "outputs": [
        {
          "output_type": "stream",
          "text": [
            "bel_1\n",
            "bel_2\n",
            "bel_3\n",
            "bel_4\n",
            "bel_5\n",
            "bel_6\n",
            "bel_7\n",
            "bel_8\n",
            "bel_9\n",
            "bel_10\n",
            "bel_11\n",
            "bel_12\n",
            "bel_13\n",
            "bel_14\n",
            "bel_15\n",
            "bel_16\n",
            "bel_17\n",
            "bel_18\n",
            "bel_19\n",
            "bel_20\n",
            "bel_21\n",
            "bel_22\n"
          ],
          "name": "stdout"
        }
      ]
    }
  ]
}