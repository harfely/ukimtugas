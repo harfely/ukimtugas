{
  "cells": [
    {
      "cell_type": "markdown",
      "metadata": {
        "id": "TdQ5HIP0_PYi"
      },
      "source": [
        "# Python  Intro"
      ]
    },
    {
      "cell_type": "code",
      "execution_count": 1,
      "metadata": {
        "colab": {
          "base_uri": "https://localhost:8080/"
        },
        "id": "8fG1iUpV18_m",
        "outputId": "7e4ef542-301e-4efa-9a85-cd1679333a83"
      },
      "outputs": [
        {
          "name": "stdout",
          "output_type": "stream",
          "text": [
            "Welcome to DMDW\n"
          ]
        }
      ],
      "source": [
        "print(\"Welcome to DMDW\")"
      ]
    },
    {
      "cell_type": "markdown",
      "metadata": {
        "id": "FDdP-tb2BxFn"
      },
      "source": [
        "## Data Types"
      ]
    },
    {
      "cell_type": "code",
      "execution_count": 2,
      "metadata": {
        "colab": {
          "base_uri": "https://localhost:8080/"
        },
        "id": "XzSM9N5BCHOw",
        "outputId": "759ef107-7f3d-43ab-e19e-7d095acc7892"
      },
      "outputs": [
        {
          "name": "stdout",
          "output_type": "stream",
          "text": [
            "<class 'str'>\n",
            "<class 'int'>\n",
            "<class 'float'>\n",
            "<class 'list'>\n",
            "<class 'dict'>\n"
          ]
        }
      ],
      "source": [
        "print(type(\"lemonade\"))\n",
        "print(type(40))\n",
        "print(type(40.0))\n",
        "print(type([1,2,3]))\n",
        "print(type({\"a\":1, \"b\":2}))"
      ]
    },
    {
      "cell_type": "markdown",
      "metadata": {
        "id": "k1fXA5xvDUhn"
      },
      "source": [
        "### String"
      ]
    },
    {
      "cell_type": "code",
      "execution_count": 3,
      "metadata": {
        "id": "cB-pX1_2CjRY"
      },
      "outputs": [],
      "source": [
        "kampus = \"universitas kristen indonesia maluku (UKIM)\""
      ]
    },
    {
      "cell_type": "code",
      "execution_count": 4,
      "metadata": {
        "colab": {
          "base_uri": "https://localhost:8080/",
          "height": 35
        },
        "id": "NQxAKPh7DBpO",
        "outputId": "38e8a9b7-ca48-4529-89a8-ad9297c23eb2"
      },
      "outputs": [
        {
          "data": {
            "text/plain": [
              "'u'"
            ]
          },
          "execution_count": 4,
          "metadata": {},
          "output_type": "execute_result"
        }
      ],
      "source": [
        "kampus[0]"
      ]
    },
    {
      "cell_type": "code",
      "execution_count": 5,
      "metadata": {
        "colab": {
          "base_uri": "https://localhost:8080/",
          "height": 35
        },
        "id": "3ktqzISDDHR3",
        "outputId": "410689de-d854-425a-b6ab-034d88675e03"
      },
      "outputs": [
        {
          "data": {
            "text/plain": [
              "'universitas kristen '"
            ]
          },
          "execution_count": 5,
          "metadata": {},
          "output_type": "execute_result"
        }
      ],
      "source": [
        "kampus[0:20]"
      ]
    },
    {
      "cell_type": "code",
      "execution_count": 6,
      "metadata": {
        "colab": {
          "base_uri": "https://localhost:8080/",
          "height": 35
        },
        "id": "Fl-8wZAWDLUG",
        "outputId": "e11b5a0a-7f9c-4fad-99b6-e41b3ce49121"
      },
      "outputs": [
        {
          "data": {
            "text/plain": [
              "'UNIVERSITAS KRISTEN INDONESIA MALUKU (UKIM)'"
            ]
          },
          "execution_count": 6,
          "metadata": {},
          "output_type": "execute_result"
        }
      ],
      "source": [
        "kampus.upper()"
      ]
    },
    {
      "cell_type": "code",
      "execution_count": 7,
      "metadata": {
        "colab": {
          "base_uri": "https://localhost:8080/",
          "height": 35
        },
        "id": "KrhsdgBHFRNG",
        "outputId": "afdbe101-5dc4-408d-ead8-a97011e6d3c0"
      },
      "outputs": [
        {
          "data": {
            "application/vnd.google.colaboratory.intrinsic+json": {
              "type": "string"
            },
            "text/plain": [
              "'Universitas Kristen Indonesia Maluku (Ukim)'"
            ]
          },
          "execution_count": 7,
          "metadata": {
            "tags": []
          },
          "output_type": "execute_result"
        }
      ],
      "source": [
        "kampus.title()"
      ]
    },
    {
      "cell_type": "code",
      "execution_count": 8,
      "metadata": {
        "colab": {
          "base_uri": "https://localhost:8080/"
        },
        "id": "6CLlN2oBFVWd",
        "outputId": "3353bdfb-d369-4ad7-ad97-2c1ebfea5986"
      },
      "outputs": [
        {
          "data": {
            "text/plain": [
              "['universitas', 'kristen', 'indonesia', 'maluku', '(UKIM)']"
            ]
          },
          "execution_count": 8,
          "metadata": {
            "tags": []
          },
          "output_type": "execute_result"
        }
      ],
      "source": [
        "kampus_per_kata = kampus.split()\n",
        "kampus_per_kata"
      ]
    },
    {
      "cell_type": "markdown",
      "metadata": {
        "id": "4lR1DwtTDWEf"
      },
      "source": [
        "### Numerik"
      ]
    },
    {
      "cell_type": "code",
      "execution_count": 9,
      "metadata": {
        "id": "3oFrte5KDXlP"
      },
      "outputs": [],
      "source": [
        "variable1 = 4\n",
        "variable2 = 2"
      ]
    },
    {
      "cell_type": "code",
      "execution_count": 10,
      "metadata": {
        "colab": {
          "base_uri": "https://localhost:8080/"
        },
        "id": "chv-wND4De-v",
        "outputId": "918de9ef-858e-4808-b08a-26b27ff1fb33"
      },
      "outputs": [
        {
          "data": {
            "text/plain": [
              "8"
            ]
          },
          "execution_count": 10,
          "metadata": {
            "tags": []
          },
          "output_type": "execute_result"
        }
      ],
      "source": [
        "variable1 * variable2"
      ]
    },
    {
      "cell_type": "code",
      "execution_count": 11,
      "metadata": {
        "colab": {
          "base_uri": "https://localhost:8080/"
        },
        "id": "KJSaKdSzDdIV",
        "outputId": "f6c15aa5-7e3c-44dc-b1a1-d9012772810f"
      },
      "outputs": [
        {
          "data": {
            "text/plain": [
              "16"
            ]
          },
          "execution_count": 11,
          "metadata": {
            "tags": []
          },
          "output_type": "execute_result"
        }
      ],
      "source": [
        "variable1 ** variable2"
      ]
    },
    {
      "cell_type": "code",
      "execution_count": 12,
      "metadata": {
        "colab": {
          "base_uri": "https://localhost:8080/"
        },
        "id": "guxJEGnHDlz2",
        "outputId": "7f71a7c4-b417-44f5-8a50-fa38e706778d"
      },
      "outputs": [
        {
          "data": {
            "text/plain": [
              "2"
            ]
          },
          "execution_count": 12,
          "metadata": {
            "tags": []
          },
          "output_type": "execute_result"
        }
      ],
      "source": [
        "72 % 10"
      ]
    },
    {
      "cell_type": "markdown",
      "metadata": {
        "id": "mLeN0PQ2D6l_"
      },
      "source": [
        "### Latihan"
      ]
    },
    {
      "cell_type": "code",
      "execution_count": 14,
      "metadata": {
        "colab": {
          "base_uri": "https://localhost:8080/"
        },
        "id": "3g6Yb9w0D-sP",
        "outputId": "26618468-7edd-4979-9784-60c5c3971bfa"
      },
      "outputs": [
        {
          "name": "stdout",
          "output_type": "stream",
          "text": [
            "✨Ini adalah...Johan!✨\n",
            "Johan suka Rujak and pernah tinggal di Ambon.\n",
            "Johan berusia 24 tahun, yang adalah 12.0 usia anjingnya.\n",
            "Pernyataan kalau 'Johan adalah mahasiswa adalah False.\n"
          ]
        }
      ],
      "source": [
        "name = 'Johan' #string\n",
        "age = 24 #integer\n",
        "place = 'Ambon' #string \n",
        "favorite_food = 'Rujak' #string\n",
        "dog_years_age = age * .5 #float\n",
        "student = False #boolean\n",
        "\n",
        "print(f'✨Ini adalah...{name}!✨')\n",
        "\n",
        "print(f\"\"\"{name} suka {favorite_food} and pernah tinggal di {place}.\n",
        "{name} berusia {age} tahun, yang adalah {dog_years_age} usia anjingnya.\n",
        "Pernyataan kalau '{name} adalah mahasiswa adalah {student}.\"\"\")"
      ]
    },
    {
      "cell_type": "markdown",
      "metadata": {
        "id": "wIL3E5obGXBF"
      },
      "source": [
        "### List"
      ]
    },
    {
      "cell_type": "code",
      "execution_count": 26,
      "metadata": {
        "id": "x2x7ExBtGYG1"
      },
      "outputs": [],
      "source": [
        "nama = ['Ayu', 'Joe', 'Amanda', 'Rohaya']"
      ]
    },
    {
      "cell_type": "code",
      "execution_count": 27,
      "metadata": {
        "colab": {
          "base_uri": "https://localhost:8080/"
        },
        "id": "YBiuvPgBGcDE",
        "outputId": "828d90e4-3aeb-403e-9a8e-aa64af51cb39"
      },
      "outputs": [
        {
          "name": "stdout",
          "output_type": "stream",
          "text": [
            "Ayu\n",
            "Amanda\n",
            "Rohaya\n"
          ]
        }
      ],
      "source": [
        "print(nama[0])\n",
        "print(nama[2])\n",
        "print(nama[-1])"
      ]
    },
    {
      "cell_type": "code",
      "execution_count": 28,
      "metadata": {
        "colab": {
          "base_uri": "https://localhost:8080/"
        },
        "id": "mTguWS9WGtaD",
        "outputId": "cf35a489-5df4-40fa-e4b8-7b397eac36e4"
      },
      "outputs": [
        {
          "data": {
            "text/plain": [
              "['Amanda', 'Ayu', 'Joe', 'Rohaya']"
            ]
          },
          "execution_count": 28,
          "metadata": {
            "tags": []
          },
          "output_type": "execute_result"
        }
      ],
      "source": [
        "nama.sort(reverse=False)\n",
        "nama"
      ]
    },
    {
      "cell_type": "code",
      "execution_count": 29,
      "metadata": {
        "colab": {
          "base_uri": "https://localhost:8080/"
        },
        "id": "ZqLoBRTqG9EE",
        "outputId": "c0f8024e-a416-4b7c-e993-bc2bda575a0f"
      },
      "outputs": [
        {
          "data": {
            "text/plain": [
              "[60, 30, 28, 19]"
            ]
          },
          "execution_count": 29,
          "metadata": {
            "tags": []
          },
          "output_type": "execute_result"
        }
      ],
      "source": [
        "usia = [19, 28, 30, 60]\n",
        "usia.sort(reverse=True)\n",
        "usia"
      ]
    },
    {
      "cell_type": "markdown",
      "metadata": {
        "id": "xwkimSFvIGOA"
      },
      "source": [
        "### Dict"
      ]
    },
    {
      "cell_type": "code",
      "execution_count": 30,
      "metadata": {
        "id": "Wl-EBdvWIHgL"
      },
      "outputs": [],
      "source": [
        "manusia1 = {\"nama\": \"Ayu\",\n",
        "             \"usia\": 28,\n",
        "             \"kelamin\": \"wanita\",\n",
        "             \"status\": \"menikah\"}\n",
        "\n",
        "manusia2 = {\"nama\": \"Joe\",\n",
        "             \"usia\": 22,\n",
        "             \"kelamin\": \"pria\",\n",
        "             \"status\": \"belum menikah\"}"
      ]
    },
    {
      "cell_type": "code",
      "execution_count": 31,
      "metadata": {
        "colab": {
          "base_uri": "https://localhost:8080/"
        },
        "id": "2WvJASLUIqey",
        "outputId": "57c1eb63-f854-4ef7-b336-1d84da4aed84"
      },
      "outputs": [
        {
          "data": {
            "text/plain": [
              "dict"
            ]
          },
          "execution_count": 31,
          "metadata": {
            "tags": []
          },
          "output_type": "execute_result"
        }
      ],
      "source": [
        "type(manusia1)"
      ]
    },
    {
      "cell_type": "code",
      "execution_count": 32,
      "metadata": {
        "colab": {
          "base_uri": "https://localhost:8080/"
        },
        "id": "48yuxh-uIuSx",
        "outputId": "0aaf6178-1f44-4886-f697-2476fb2da430"
      },
      "outputs": [
        {
          "name": "stdout",
          "output_type": "stream",
          "text": [
            "dict_keys(['nama', 'usia', 'kelamin', 'status'])\n",
            "dict_values(['Ayu', 28, 'wanita', 'menikah'])\n"
          ]
        }
      ],
      "source": [
        "print(manusia1.keys())\n",
        "print(manusia1.values())"
      ]
    },
    {
      "cell_type": "code",
      "execution_count": 33,
      "metadata": {
        "colab": {
          "base_uri": "https://localhost:8080/"
        },
        "id": "fIaUdmr9I2Hb",
        "outputId": "5fa0dfa3-e3f1-46d5-b030-658c5d469a1a"
      },
      "outputs": [
        {
          "data": {
            "text/plain": [
              "28"
            ]
          },
          "execution_count": 33,
          "metadata": {
            "tags": []
          },
          "output_type": "execute_result"
        }
      ],
      "source": [
        "manusia1[\"usia\"]"
      ]
    },
    {
      "cell_type": "code",
      "execution_count": 34,
      "metadata": {
        "colab": {
          "base_uri": "https://localhost:8080/"
        },
        "id": "yJjXV8qHI-eJ",
        "outputId": "ccba03f7-2260-41e0-a9d8-6d44c5f6d875"
      },
      "outputs": [
        {
          "data": {
            "text/plain": [
              "{'kelamin': 'wanita', 'nama': 'Ayu', 'status': 'menikah', 'usia': 24}"
            ]
          },
          "execution_count": 34,
          "metadata": {
            "tags": []
          },
          "output_type": "execute_result"
        }
      ],
      "source": [
        "manusia1[\"usia\"] = 24\n",
        "manusia1"
      ]
    },
    {
      "cell_type": "markdown",
      "metadata": {
        "id": "0eUO8T07HXls"
      },
      "source": [
        "## Loop"
      ]
    },
    {
      "cell_type": "code",
      "execution_count": 35,
      "metadata": {
        "colab": {
          "base_uri": "https://localhost:8080/"
        },
        "id": "75kcJSmGHbzE",
        "outputId": "cf8faf0f-c09e-45f7-c21f-718b4ac6e02c"
      },
      "outputs": [
        {
          "name": "stdout",
          "output_type": "stream",
          "text": [
            "Nama orang adalah Amanda\n",
            "Nama orang adalah Ayu\n",
            "Nama orang adalah Joe\n",
            "Nama orang adalah Rohaya\n"
          ]
        }
      ],
      "source": [
        "for n in nama:\n",
        "  print(\"Nama orang adalah\", n)"
      ]
    },
    {
      "cell_type": "code",
      "execution_count": 36,
      "metadata": {
        "colab": {
          "base_uri": "https://localhost:8080/"
        },
        "id": "je-csHnCHpXy",
        "outputId": "13d75b69-5a59-4098-8aca-7721d6f6e359"
      },
      "outputs": [
        {
          "name": "stdout",
          "output_type": "stream",
          "text": [
            "120\n",
            "60\n",
            "56\n",
            "38\n"
          ]
        }
      ],
      "source": [
        "for u in usia:\n",
        "  print(u * 2)"
      ]
    },
    {
      "cell_type": "markdown",
      "metadata": {
        "id": "cFvsoAJAJSkv"
      },
      "source": [
        "## Function"
      ]
    },
    {
      "cell_type": "code",
      "execution_count": 38,
      "metadata": {
        "colab": {
          "base_uri": "https://localhost:8080/"
        },
        "id": "aDc5jKGTJUTq",
        "outputId": "ebb82330-fef6-4d50-d7d6-cf85cbfc3899"
      },
      "outputs": [
        {
          "name": "stdout",
          "output_type": "stream",
          "text": [
            "Happy Birthday to you\n",
            "Happy Birthday to you\n",
            "Happy Birthday dear human life form\n",
            "Happy Birthday to Susanto\n"
          ]
        }
      ],
      "source": [
        "def lagu(nama):\n",
        "  print(\"Happy Birthday to you\")\n",
        "  print(\"Happy Birthday to you\")\n",
        "  print(\"Happy Birthday dear human life form\")\n",
        "  print(\"Happy Birthday to\", nama)\n",
        "  return \n",
        "\n",
        "lagu(\"Susanto\")"
      ]
    },
    {
      "cell_type": "markdown",
      "metadata": {
        "id": "YrjLFKNSgf8j"
      },
      "source": [
        "# Similarity"
      ]
    },
    {
      "cell_type": "code",
      "execution_count": null,
      "metadata": {
        "id": "sQ2_wLpQhgi6"
      },
      "outputs": [],
      "source": []
    },
    {
      "cell_type": "markdown",
      "metadata": {
        "id": "y9GWzNTmhGZ7"
      },
      "source": [
        "## EUCLIDEAN DISTANCE"
      ]
    },
    {
      "cell_type": "code",
      "execution_count": null,
      "metadata": {
        "id": "c3D064kpgkwj"
      },
      "outputs": [],
      "source": []
    },
    {
      "cell_type": "code",
      "execution_count": null,
      "metadata": {
        "id": "kBUB1OeghkKa"
      },
      "outputs": [],
      "source": []
    },
    {
      "cell_type": "markdown",
      "metadata": {
        "id": "jlkmvzirhbI8"
      },
      "source": [
        "## MANHATTAN DISTANCE"
      ]
    },
    {
      "cell_type": "code",
      "execution_count": null,
      "metadata": {
        "id": "V9exoZwfhah7"
      },
      "outputs": [],
      "source": []
    },
    {
      "cell_type": "code",
      "execution_count": null,
      "metadata": {
        "id": "1g-VCMoJhpRj"
      },
      "outputs": [],
      "source": []
    },
    {
      "cell_type": "markdown",
      "metadata": {
        "id": "-HiUjMBYhuKq"
      },
      "source": [
        "## MINKOWSKI DISTANCE"
      ]
    },
    {
      "cell_type": "code",
      "execution_count": null,
      "metadata": {
        "id": "XjrGaUUmhvyQ"
      },
      "outputs": [],
      "source": []
    },
    {
      "cell_type": "code",
      "execution_count": null,
      "metadata": {
        "id": "z7KuJ_lBh5VK"
      },
      "outputs": [],
      "source": []
    },
    {
      "cell_type": "markdown",
      "metadata": {
        "id": "899NLPd9h-uN"
      },
      "source": [
        "## COSINE SIMILARITY"
      ]
    },
    {
      "cell_type": "code",
      "execution_count": null,
      "metadata": {
        "id": "walMp4ktiCNT"
      },
      "outputs": [],
      "source": []
    },
    {
      "cell_type": "code",
      "execution_count": null,
      "metadata": {
        "id": "0tNzxq2diHRa"
      },
      "outputs": [],
      "source": []
    },
    {
      "cell_type": "markdown",
      "metadata": {
        "id": "DlliwRWSiMda"
      },
      "source": [
        "## JACCARD SIMILARITY"
      ]
    },
    {
      "cell_type": "code",
      "execution_count": null,
      "metadata": {
        "id": "qSLTREZAiPsL"
      },
      "outputs": [],
      "source": []
    },
    {
      "cell_type": "code",
      "execution_count": null,
      "metadata": {
        "id": "D9vHzJcoiRyq"
      },
      "outputs": [],
      "source": []
    }
  ],
  "metadata": {
    "colab": {
      "collapsed_sections": [],
      "name": "prak1_share.ipynb",
      "provenance": [],
      "toc_visible": true
    },
    "kernelspec": {
      "display_name": "Python 3",
      "name": "python3"
    },
    "language_info": {
      "codemirror_mode": {
        "name": "ipython",
        "version": 3
      },
      "file_extension": ".py",
      "mimetype": "text/x-python",
      "name": "python",
      "nbconvert_exporter": "python",
      "pygments_lexer": "ipython3",
      "version": "3.9.12"
    }
  },
  "nbformat": 4,
  "nbformat_minor": 0
}
