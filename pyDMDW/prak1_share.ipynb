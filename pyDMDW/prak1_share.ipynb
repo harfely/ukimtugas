{
  "nbformat": 4,
  "nbformat_minor": 0,
  "metadata": {
    "colab": {
      "name": "prak1_share.ipynb",
      "provenance": [],
      "collapsed_sections": [],
      "toc_visible": true
    },
    "kernelspec": {
      "name": "python3",
      "display_name": "Python 3"
    }
  },
  "cells": [
    {
      "cell_type": "markdown",
      "metadata": {
        "id": "TdQ5HIP0_PYi"
      },
      "source": [
        "# Python  Intro"
      ]
    },
    {
      "cell_type": "code",
      "metadata": {
        "id": "8fG1iUpV18_m",
        "colab": {
          "base_uri": "https://localhost:8080/"
        },
        "outputId": "7e4ef542-301e-4efa-9a85-cd1679333a83"
      },
      "source": [
        "print(\"Welcome to DMDW\")"
      ],
      "execution_count": 1,
      "outputs": [
        {
          "output_type": "stream",
          "text": [
            "Welcome to DMDW\n"
          ],
          "name": "stdout"
        }
      ]
    },
    {
      "cell_type": "markdown",
      "metadata": {
        "id": "FDdP-tb2BxFn"
      },
      "source": [
        "## Data Types"
      ]
    },
    {
      "cell_type": "code",
      "metadata": {
        "colab": {
          "base_uri": "https://localhost:8080/"
        },
        "id": "XzSM9N5BCHOw",
        "outputId": "759ef107-7f3d-43ab-e19e-7d095acc7892"
      },
      "source": [
        "print(type(\"lemonade\"))\r\n",
        "print(type(40))\r\n",
        "print(type(40.0))\r\n",
        "print(type([1,2,3]))\r\n",
        "print(type({\"a\":1, \"b\":2}))"
      ],
      "execution_count": 2,
      "outputs": [
        {
          "output_type": "stream",
          "text": [
            "<class 'str'>\n",
            "<class 'int'>\n",
            "<class 'float'>\n",
            "<class 'list'>\n",
            "<class 'dict'>\n"
          ],
          "name": "stdout"
        }
      ]
    },
    {
      "cell_type": "markdown",
      "metadata": {
        "id": "k1fXA5xvDUhn"
      },
      "source": [
        "### String"
      ]
    },
    {
      "cell_type": "code",
      "metadata": {
        "id": "cB-pX1_2CjRY"
      },
      "source": [
        "kampus = \"universitas kristen indonesia maluku (UKIM)\""
      ],
      "execution_count": 3,
      "outputs": []
    },
    {
      "cell_type": "code",
      "metadata": {
        "colab": {
          "base_uri": "https://localhost:8080/",
          "height": 35
        },
        "id": "NQxAKPh7DBpO",
        "outputId": "38e8a9b7-ca48-4529-89a8-ad9297c23eb2"
      },
      "source": [
        "kampus[0]"
      ],
      "execution_count": 4,
      "outputs": [
        {
          "output_type": "execute_result",
          "data": {
            "application/vnd.google.colaboratory.intrinsic+json": {
              "type": "string"
            },
            "text/plain": [
              "'u'"
            ]
          },
          "metadata": {
            "tags": []
          },
          "execution_count": 4
        }
      ]
    },
    {
      "cell_type": "code",
      "metadata": {
        "colab": {
          "base_uri": "https://localhost:8080/",
          "height": 35
        },
        "id": "3ktqzISDDHR3",
        "outputId": "410689de-d854-425a-b6ab-034d88675e03"
      },
      "source": [
        "kampus[0:20]"
      ],
      "execution_count": 5,
      "outputs": [
        {
          "output_type": "execute_result",
          "data": {
            "application/vnd.google.colaboratory.intrinsic+json": {
              "type": "string"
            },
            "text/plain": [
              "'universitas kristen '"
            ]
          },
          "metadata": {
            "tags": []
          },
          "execution_count": 5
        }
      ]
    },
    {
      "cell_type": "code",
      "metadata": {
        "colab": {
          "base_uri": "https://localhost:8080/",
          "height": 35
        },
        "id": "Fl-8wZAWDLUG",
        "outputId": "e11b5a0a-7f9c-4fad-99b6-e41b3ce49121"
      },
      "source": [
        "kampus.upper()"
      ],
      "execution_count": 6,
      "outputs": [
        {
          "output_type": "execute_result",
          "data": {
            "application/vnd.google.colaboratory.intrinsic+json": {
              "type": "string"
            },
            "text/plain": [
              "'UNIVERSITAS KRISTEN INDONESIA MALUKU (UKIM)'"
            ]
          },
          "metadata": {
            "tags": []
          },
          "execution_count": 6
        }
      ]
    },
    {
      "cell_type": "code",
      "metadata": {
        "colab": {
          "base_uri": "https://localhost:8080/",
          "height": 35
        },
        "id": "KrhsdgBHFRNG",
        "outputId": "afdbe101-5dc4-408d-ead8-a97011e6d3c0"
      },
      "source": [
        "kampus.title()"
      ],
      "execution_count": 7,
      "outputs": [
        {
          "output_type": "execute_result",
          "data": {
            "application/vnd.google.colaboratory.intrinsic+json": {
              "type": "string"
            },
            "text/plain": [
              "'Universitas Kristen Indonesia Maluku (Ukim)'"
            ]
          },
          "metadata": {
            "tags": []
          },
          "execution_count": 7
        }
      ]
    },
    {
      "cell_type": "code",
      "metadata": {
        "colab": {
          "base_uri": "https://localhost:8080/"
        },
        "id": "6CLlN2oBFVWd",
        "outputId": "3353bdfb-d369-4ad7-ad97-2c1ebfea5986"
      },
      "source": [
        "kampus_per_kata = kampus.split()\r\n",
        "kampus_per_kata"
      ],
      "execution_count": 8,
      "outputs": [
        {
          "output_type": "execute_result",
          "data": {
            "text/plain": [
              "['universitas', 'kristen', 'indonesia', 'maluku', '(UKIM)']"
            ]
          },
          "metadata": {
            "tags": []
          },
          "execution_count": 8
        }
      ]
    },
    {
      "cell_type": "markdown",
      "metadata": {
        "id": "4lR1DwtTDWEf"
      },
      "source": [
        "### Numerik"
      ]
    },
    {
      "cell_type": "code",
      "metadata": {
        "id": "3oFrte5KDXlP"
      },
      "source": [
        "variable1 = 4\r\n",
        "variable2 = 2"
      ],
      "execution_count": 9,
      "outputs": []
    },
    {
      "cell_type": "code",
      "metadata": {
        "colab": {
          "base_uri": "https://localhost:8080/"
        },
        "id": "chv-wND4De-v",
        "outputId": "918de9ef-858e-4808-b08a-26b27ff1fb33"
      },
      "source": [
        "variable1 * variable2"
      ],
      "execution_count": 10,
      "outputs": [
        {
          "output_type": "execute_result",
          "data": {
            "text/plain": [
              "8"
            ]
          },
          "metadata": {
            "tags": []
          },
          "execution_count": 10
        }
      ]
    },
    {
      "cell_type": "code",
      "metadata": {
        "colab": {
          "base_uri": "https://localhost:8080/"
        },
        "id": "KJSaKdSzDdIV",
        "outputId": "f6c15aa5-7e3c-44dc-b1a1-d9012772810f"
      },
      "source": [
        "variable1 ** variable2"
      ],
      "execution_count": 11,
      "outputs": [
        {
          "output_type": "execute_result",
          "data": {
            "text/plain": [
              "16"
            ]
          },
          "metadata": {
            "tags": []
          },
          "execution_count": 11
        }
      ]
    },
    {
      "cell_type": "code",
      "metadata": {
        "colab": {
          "base_uri": "https://localhost:8080/"
        },
        "id": "guxJEGnHDlz2",
        "outputId": "7f71a7c4-b417-44f5-8a50-fa38e706778d"
      },
      "source": [
        "72 % 10"
      ],
      "execution_count": 12,
      "outputs": [
        {
          "output_type": "execute_result",
          "data": {
            "text/plain": [
              "2"
            ]
          },
          "metadata": {
            "tags": []
          },
          "execution_count": 12
        }
      ]
    },
    {
      "cell_type": "markdown",
      "metadata": {
        "id": "mLeN0PQ2D6l_"
      },
      "source": [
        "### Latihan"
      ]
    },
    {
      "cell_type": "code",
      "metadata": {
        "colab": {
          "base_uri": "https://localhost:8080/"
        },
        "id": "3g6Yb9w0D-sP",
        "outputId": "26618468-7edd-4979-9784-60c5c3971bfa"
      },
      "source": [
        "name = 'Johan' #string\r\n",
        "age = 24 #integer\r\n",
        "place = 'Ambon' #string \r\n",
        "favorite_food = 'Rujak' #string\r\n",
        "dog_years_age = age * .5 #float\r\n",
        "student = False #boolean\r\n",
        "\r\n",
        "print(f'✨Ini adalah...{name}!✨')\r\n",
        "\r\n",
        "print(f\"\"\"{name} suka {favorite_food} and pernah tinggal di {place}.\r\n",
        "{name} berusia {age} tahun, yang adalah {dog_years_age} usia anjingnya.\r\n",
        "Pernyataan kalau '{name} adalah mahasiswa adalah {student}.\"\"\")"
      ],
      "execution_count": 14,
      "outputs": [
        {
          "output_type": "stream",
          "text": [
            "✨Ini adalah...Johan!✨\n",
            "Johan suka Rujak and pernah tinggal di Ambon.\n",
            "Johan berusia 24 tahun, yang adalah 12.0 usia anjingnya.\n",
            "Pernyataan kalau 'Johan adalah mahasiswa adalah False.\n"
          ],
          "name": "stdout"
        }
      ]
    },
    {
      "cell_type": "markdown",
      "metadata": {
        "id": "wIL3E5obGXBF"
      },
      "source": [
        "### List"
      ]
    },
    {
      "cell_type": "code",
      "metadata": {
        "id": "x2x7ExBtGYG1"
      },
      "source": [
        "nama = ['Ayu', 'Joe', 'Amanda', 'Rohaya']"
      ],
      "execution_count": 26,
      "outputs": []
    },
    {
      "cell_type": "code",
      "metadata": {
        "colab": {
          "base_uri": "https://localhost:8080/"
        },
        "id": "YBiuvPgBGcDE",
        "outputId": "828d90e4-3aeb-403e-9a8e-aa64af51cb39"
      },
      "source": [
        "print(nama[0])\r\n",
        "print(nama[2])\r\n",
        "print(nama[-1])"
      ],
      "execution_count": 27,
      "outputs": [
        {
          "output_type": "stream",
          "text": [
            "Ayu\n",
            "Amanda\n",
            "Rohaya\n"
          ],
          "name": "stdout"
        }
      ]
    },
    {
      "cell_type": "code",
      "metadata": {
        "colab": {
          "base_uri": "https://localhost:8080/"
        },
        "id": "mTguWS9WGtaD",
        "outputId": "cf35a489-5df4-40fa-e4b8-7b397eac36e4"
      },
      "source": [
        "nama.sort(reverse=False)\r\n",
        "nama"
      ],
      "execution_count": 28,
      "outputs": [
        {
          "output_type": "execute_result",
          "data": {
            "text/plain": [
              "['Amanda', 'Ayu', 'Joe', 'Rohaya']"
            ]
          },
          "metadata": {
            "tags": []
          },
          "execution_count": 28
        }
      ]
    },
    {
      "cell_type": "code",
      "metadata": {
        "colab": {
          "base_uri": "https://localhost:8080/"
        },
        "id": "ZqLoBRTqG9EE",
        "outputId": "c0f8024e-a416-4b7c-e993-bc2bda575a0f"
      },
      "source": [
        "usia = [19, 28, 30, 60]\r\n",
        "usia.sort(reverse=True)\r\n",
        "usia"
      ],
      "execution_count": 29,
      "outputs": [
        {
          "output_type": "execute_result",
          "data": {
            "text/plain": [
              "[60, 30, 28, 19]"
            ]
          },
          "metadata": {
            "tags": []
          },
          "execution_count": 29
        }
      ]
    },
    {
      "cell_type": "markdown",
      "metadata": {
        "id": "xwkimSFvIGOA"
      },
      "source": [
        "### Dict"
      ]
    },
    {
      "cell_type": "code",
      "metadata": {
        "id": "Wl-EBdvWIHgL"
      },
      "source": [
        "manusia1 = {\"nama\": \"Ayu\",\r\n",
        "             \"usia\": 28,\r\n",
        "             \"kelamin\": \"wanita\",\r\n",
        "             \"status\": \"menikah\"}\r\n",
        "\r\n",
        "manusia2 = {\"nama\": \"Joe\",\r\n",
        "             \"usia\": 22,\r\n",
        "             \"kelamin\": \"pria\",\r\n",
        "             \"status\": \"belum menikah\"}"
      ],
      "execution_count": 30,
      "outputs": []
    },
    {
      "cell_type": "code",
      "metadata": {
        "colab": {
          "base_uri": "https://localhost:8080/"
        },
        "id": "2WvJASLUIqey",
        "outputId": "57c1eb63-f854-4ef7-b336-1d84da4aed84"
      },
      "source": [
        "type(manusia1)"
      ],
      "execution_count": 31,
      "outputs": [
        {
          "output_type": "execute_result",
          "data": {
            "text/plain": [
              "dict"
            ]
          },
          "metadata": {
            "tags": []
          },
          "execution_count": 31
        }
      ]
    },
    {
      "cell_type": "code",
      "metadata": {
        "colab": {
          "base_uri": "https://localhost:8080/"
        },
        "id": "48yuxh-uIuSx",
        "outputId": "0aaf6178-1f44-4886-f697-2476fb2da430"
      },
      "source": [
        "print(manusia1.keys())\r\n",
        "print(manusia1.values())"
      ],
      "execution_count": 32,
      "outputs": [
        {
          "output_type": "stream",
          "text": [
            "dict_keys(['nama', 'usia', 'kelamin', 'status'])\n",
            "dict_values(['Ayu', 28, 'wanita', 'menikah'])\n"
          ],
          "name": "stdout"
        }
      ]
    },
    {
      "cell_type": "code",
      "metadata": {
        "colab": {
          "base_uri": "https://localhost:8080/"
        },
        "id": "fIaUdmr9I2Hb",
        "outputId": "5fa0dfa3-e3f1-46d5-b030-658c5d469a1a"
      },
      "source": [
        "manusia1[\"usia\"]"
      ],
      "execution_count": 33,
      "outputs": [
        {
          "output_type": "execute_result",
          "data": {
            "text/plain": [
              "28"
            ]
          },
          "metadata": {
            "tags": []
          },
          "execution_count": 33
        }
      ]
    },
    {
      "cell_type": "code",
      "metadata": {
        "colab": {
          "base_uri": "https://localhost:8080/"
        },
        "id": "yJjXV8qHI-eJ",
        "outputId": "ccba03f7-2260-41e0-a9d8-6d44c5f6d875"
      },
      "source": [
        "manusia1[\"usia\"] = 24\r\n",
        "manusia1"
      ],
      "execution_count": 34,
      "outputs": [
        {
          "output_type": "execute_result",
          "data": {
            "text/plain": [
              "{'kelamin': 'wanita', 'nama': 'Ayu', 'status': 'menikah', 'usia': 24}"
            ]
          },
          "metadata": {
            "tags": []
          },
          "execution_count": 34
        }
      ]
    },
    {
      "cell_type": "markdown",
      "metadata": {
        "id": "0eUO8T07HXls"
      },
      "source": [
        "## Loop"
      ]
    },
    {
      "cell_type": "code",
      "metadata": {
        "colab": {
          "base_uri": "https://localhost:8080/"
        },
        "id": "75kcJSmGHbzE",
        "outputId": "cf8faf0f-c09e-45f7-c21f-718b4ac6e02c"
      },
      "source": [
        "for n in nama:\r\n",
        "  print(\"Nama orang adalah\", n)"
      ],
      "execution_count": 35,
      "outputs": [
        {
          "output_type": "stream",
          "text": [
            "Nama orang adalah Amanda\n",
            "Nama orang adalah Ayu\n",
            "Nama orang adalah Joe\n",
            "Nama orang adalah Rohaya\n"
          ],
          "name": "stdout"
        }
      ]
    },
    {
      "cell_type": "code",
      "metadata": {
        "colab": {
          "base_uri": "https://localhost:8080/"
        },
        "id": "je-csHnCHpXy",
        "outputId": "13d75b69-5a59-4098-8aca-7721d6f6e359"
      },
      "source": [
        "for u in usia:\r\n",
        "  print(u * 2)"
      ],
      "execution_count": 36,
      "outputs": [
        {
          "output_type": "stream",
          "text": [
            "120\n",
            "60\n",
            "56\n",
            "38\n"
          ],
          "name": "stdout"
        }
      ]
    },
    {
      "cell_type": "markdown",
      "metadata": {
        "id": "cFvsoAJAJSkv"
      },
      "source": [
        "## Function"
      ]
    },
    {
      "cell_type": "code",
      "metadata": {
        "colab": {
          "base_uri": "https://localhost:8080/"
        },
        "id": "aDc5jKGTJUTq",
        "outputId": "ebb82330-fef6-4d50-d7d6-cf85cbfc3899"
      },
      "source": [
        "def lagu(nama):\r\n",
        "  print(\"Happy Birthday to you\")\r\n",
        "  print(\"Happy Birthday to you\")\r\n",
        "  print(\"Happy Birthday dear human life form\")\r\n",
        "  print(\"Happy Birthday to\", nama)\r\n",
        "  return \r\n",
        "\r\n",
        "lagu(\"Susanto\")"
      ],
      "execution_count": 38,
      "outputs": [
        {
          "output_type": "stream",
          "text": [
            "Happy Birthday to you\n",
            "Happy Birthday to you\n",
            "Happy Birthday dear human life form\n",
            "Happy Birthday to Susanto\n"
          ],
          "name": "stdout"
        }
      ]
    },
    {
      "cell_type": "markdown",
      "metadata": {
        "id": "YrjLFKNSgf8j"
      },
      "source": [
        "# Similarity"
      ]
    },
    {
      "cell_type": "code",
      "metadata": {
        "id": "sQ2_wLpQhgi6"
      },
      "source": [
        ""
      ],
      "execution_count": null,
      "outputs": []
    },
    {
      "cell_type": "markdown",
      "metadata": {
        "id": "y9GWzNTmhGZ7"
      },
      "source": [
        "## EUCLIDEAN DISTANCE"
      ]
    },
    {
      "cell_type": "code",
      "metadata": {
        "id": "c3D064kpgkwj"
      },
      "source": [
        ""
      ],
      "execution_count": null,
      "outputs": []
    },
    {
      "cell_type": "code",
      "metadata": {
        "id": "kBUB1OeghkKa"
      },
      "source": [
        ""
      ],
      "execution_count": null,
      "outputs": []
    },
    {
      "cell_type": "markdown",
      "metadata": {
        "id": "jlkmvzirhbI8"
      },
      "source": [
        "## MANHATTAN DISTANCE"
      ]
    },
    {
      "cell_type": "code",
      "metadata": {
        "id": "V9exoZwfhah7"
      },
      "source": [
        ""
      ],
      "execution_count": null,
      "outputs": []
    },
    {
      "cell_type": "code",
      "metadata": {
        "id": "1g-VCMoJhpRj"
      },
      "source": [
        ""
      ],
      "execution_count": null,
      "outputs": []
    },
    {
      "cell_type": "markdown",
      "metadata": {
        "id": "-HiUjMBYhuKq"
      },
      "source": [
        "## MINKOWSKI DISTANCE"
      ]
    },
    {
      "cell_type": "code",
      "metadata": {
        "id": "XjrGaUUmhvyQ"
      },
      "source": [
        ""
      ],
      "execution_count": null,
      "outputs": []
    },
    {
      "cell_type": "code",
      "metadata": {
        "id": "z7KuJ_lBh5VK"
      },
      "source": [
        ""
      ],
      "execution_count": null,
      "outputs": []
    },
    {
      "cell_type": "markdown",
      "metadata": {
        "id": "899NLPd9h-uN"
      },
      "source": [
        "## COSINE SIMILARITY"
      ]
    },
    {
      "cell_type": "code",
      "metadata": {
        "id": "walMp4ktiCNT"
      },
      "source": [
        ""
      ],
      "execution_count": null,
      "outputs": []
    },
    {
      "cell_type": "code",
      "metadata": {
        "id": "0tNzxq2diHRa"
      },
      "source": [
        ""
      ],
      "execution_count": null,
      "outputs": []
    },
    {
      "cell_type": "markdown",
      "metadata": {
        "id": "DlliwRWSiMda"
      },
      "source": [
        "## JACCARD SIMILARITY"
      ]
    },
    {
      "cell_type": "code",
      "metadata": {
        "id": "qSLTREZAiPsL"
      },
      "source": [
        ""
      ],
      "execution_count": null,
      "outputs": []
    },
    {
      "cell_type": "code",
      "metadata": {
        "id": "D9vHzJcoiRyq"
      },
      "source": [
        ""
      ],
      "execution_count": null,
      "outputs": []
    }
  ]
}